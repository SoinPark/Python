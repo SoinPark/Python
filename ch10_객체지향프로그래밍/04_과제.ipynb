{
 "metadata": {
  "language_info": {
   "codemirror_mode": {
    "name": "ipython",
    "version": 3
   },
   "file_extension": ".py",
   "mimetype": "text/x-python",
   "name": "python",
   "nbconvert_exporter": "python",
   "pygments_lexer": "ipython3",
   "version": "3.8.5"
  },
  "orig_nbformat": 2,
  "kernelspec": {
   "name": "python385jvsc74a57bd08c1eae21719a0790335dcb83aad72b63b602cfe5cdb2bda0f60bc11d4f154e4b",
   "display_name": "Python 3.8.5 64-bit ('base': conda)"
  }
 },
 "nbformat": 4,
 "nbformat_minor": 2,
 "cells": [
  {
   "source": [
    "## Unit 13.7 심사문제: 온라인 할인 쿠폰 시스템 만들기\n",
    "- 표준 입력으로 가격(정수)과 쿠폰 이름이 각 줄에 입력됩니다. Cash3000 쿠폰은 3,000원, Cash5000 쿠폰은 5,000원을 할인합니다. 쿠폰에 따라 할인된 가격을 출력하는 프로그램을 만드세요(input에서 안내 문자열은 출력하지 않아야 합니다)."
   ],
   "cell_type": "markdown",
   "metadata": {}
  },
  {
   "cell_type": "code",
   "execution_count": 5,
   "metadata": {},
   "outputs": [
    {
     "output_type": "stream",
     "name": "stdout",
     "text": [
      "24000\n"
     ]
    }
   ],
   "source": [
    "price = int(input())\n",
    "coupon = str(input())\n",
    "\n",
    "if coupon == 'Cash3000':\n",
    "    price -= 3000\n",
    "\n",
    "if coupon == 'Cash5000':\n",
    "    price -= 5000\n",
    "\n",
    "print(price)"
   ]
  },
  {
   "source": [
    "## Unit 14.7 심사문제: 합격 여부 판단하기\n",
    "- 표준 입력으로 국어, 영어, 수학, 과학 점수가 입력됩니다. 여기서 네 과목의 평균 점수가 80점 이상일 때 합격이라고 정했습니다. 평균 점수에 따라 '합격', '불합격'을 출력하는 프로그램을 만드세요(input에서 안내 문자열은 출력하지 않아야 합니다). 단, 점수는 0점부터 100점까지만 입력받을 수 있으며 범위를 벗어났다면 '잘못된 점수'를 출력하고 합격, 불합격 여부는 출력하지 않아야 합니다."
   ],
   "cell_type": "markdown",
   "metadata": {}
  },
  {
   "cell_type": "code",
   "execution_count": 43,
   "metadata": {},
   "outputs": [
    {
     "output_type": "stream",
     "name": "stdout",
     "text": [
      "잘못된 점수\n"
     ]
    }
   ],
   "source": [
    "kor, eng, mat, sci = map(int, input().split())\n",
    "average_score = (kor + eng + mat + sci) / 4\n",
    "\n",
    "if kor > 100 or eng > 100 or mat > 100 or sci > 100:        # 0~100점까지 범위 설정\n",
    "    print('잘못된 점수')\n",
    "elif kor < 0 or eng < 0 or mat < 0 or sci < 0:\n",
    "    print('잘못된 점수')\n",
    "else:\n",
    "    if average_score >= 80:\n",
    "        print('합격')\n",
    "    else:\n",
    "        print('불합격')"
   ]
  },
  {
   "source": [
    "## Unit 15.4 심사문제: 교통카드 시스템 만들기\n",
    "* 표준 입력으로 나이(만 나이)가 입력됩니다(입력 값은 7 이상 입력됨). 교통카드 시스템에서 시내버스 요금은 다음과 같으며 각 나이에 맞게 요금을 차감한 뒤 잔액이 출력되게 만드세요(if, elif 사용). 현재 교통카드에는 9,000원이 들어있습니다.\n",
    "\n",
    "- 어린이(초등학생, 만 7세 이상 12세 이하): 650원\n",
    "- 청소년(중∙고등학생, 만 13세 이상 18세 이하): 1,050원\n",
    "- 어른(일반, 만 19세 이상): 1,250원"
   ],
   "cell_type": "markdown",
   "metadata": {}
  },
  {
   "cell_type": "code",
   "execution_count": 34,
   "metadata": {},
   "outputs": [
    {
     "output_type": "stream",
     "name": "stdout",
     "text": [
      "8350\n"
     ]
    }
   ],
   "source": [
    "age = int(input())\n",
    "balance = 9000    # 교통카드 잔액\n",
    "\n",
    "if 7 <= age <= 12:\n",
    "    print(balance - 650)\n",
    "elif 13 <= age <= 18:\n",
    "    print(balance - 1050)\n",
    "elif 19 <= age:\n",
    "    print(balance - 1250)"
   ]
  },
  {
   "source": [
    "## Unit 16.6 심사문제: 구구단 출력하기\n",
    "- 표준 입력으로 정수가 입력됩니다. 입력된 정수의 구구단을 출력하는 프로그램을 만드세요(input에서 안내 문자열은 출력하지 않아야 합니다). 출력 형식은 숫자 * 숫자 = 숫자처럼 만들고 숫자와 *, = 사이는 공백을 한 칸 띄웁니다."
   ],
   "cell_type": "markdown",
   "metadata": {}
  },
  {
   "cell_type": "code",
   "execution_count": 36,
   "metadata": {},
   "outputs": [
    {
     "output_type": "stream",
     "name": "stdout",
     "text": [
      "2 * 1 = 2\n2 * 2 = 4\n2 * 3 = 6\n2 * 4 = 8\n2 * 5 = 10\n2 * 6 = 12\n2 * 7 = 14\n2 * 8 = 16\n2 * 9 = 18\n"
     ]
    }
   ],
   "source": [
    "num = int(input())\n",
    "\n",
    "for i in range(1, 10):                      # 1~9까지 곱한다\n",
    "    print(f'{num} * {i} = {num*i}')"
   ]
  },
  {
   "source": [
    "## Unit 17.6 심사문제: 교통카드 잔액 출력하기\n",
    "- 표준 입력으로 금액(정수)이 입력됩니다. 1회당 요금은 1,350원이고, 교통카드를 사용했을 때마다의 잔액을 각 줄에 출력하는 프로그램을 만드세요(input에서 안내 문자열은 출력하지 않아야 합니다). 단, 최초 금액은 출력하지 않아야 합니다. 그리고 잔액은 음수가 될 수 없으며 잔액이 부족하면 출력을 끝냅니다."
   ],
   "cell_type": "markdown",
   "metadata": {}
  },
  {
   "cell_type": "code",
   "execution_count": 7,
   "metadata": {},
   "outputs": [
    {
     "output_type": "stream",
     "name": "stdout",
     "text": [
      "10000\n8650\n7300\n5950\n4600\n3250\n1900\n550\n"
     ]
    }
   ],
   "source": [
    "money = int(input())\n",
    "\n",
    "while money >= 1350:        # 금액이 1350보다 크거나 같을때 조건을 만족\n",
    "    print(money)\n",
    "    money -= 1350\n",
    "print(money)"
   ]
  },
  {
   "source": [
    "## Unit 18.6 심사문제: 두 수 사이의 숫자 중 3으로 끝나지 않는 숫자 출력하기\n",
    "- 표준 입력으로 정수 두 개가 입력됩니다(첫 번째 입력 값의 범위는 1~200, 두 번째 입력 값의 범위는 10~200이며 첫 번째 입력 값은 두 번째 입력 값보다 항상 작습니다). 다음 소스 코드를 완성하여 첫 번째 정수와 두 번째 정수 사이의 숫자 중 3으로 끝나지 않는 숫자가 출력되게 만드세요. 정답에 코드를 작성할 때는 while True:에 맞춰서 들여쓰기를 해주세요"
   ],
   "cell_type": "markdown",
   "metadata": {}
  },
  {
   "cell_type": "code",
   "execution_count": null,
   "metadata": {},
   "outputs": [],
   "source": [
    "start, stop = map(int, input().split())\n",
    "\n",
    "i = start\n",
    "\n",
    "while True:\n",
    "\n",
    "    "
   ]
  }
 ]
}