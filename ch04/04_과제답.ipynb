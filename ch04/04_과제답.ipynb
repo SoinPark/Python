{
 "metadata": {
  "language_info": {
   "codemirror_mode": {
    "name": "ipython",
    "version": 3
   },
   "file_extension": ".py",
   "mimetype": "text/x-python",
   "name": "python",
   "nbconvert_exporter": "python",
   "pygments_lexer": "ipython3",
   "version": "3.8.5"
  },
  "orig_nbformat": 2,
  "kernelspec": {
   "name": "python385jvsc74a57bd08c1eae21719a0790335dcb83aad72b63b602cfe5cdb2bda0f60bc11d4f154e4b",
   "display_name": "Python 3.8.5 64-bit ('base': conda)"
  }
 },
 "nbformat": 4,
 "nbformat_minor": 2,
 "cells": [
  {
   "source": [
    "### 1-1 윤달구하기"
   ],
   "cell_type": "markdown",
   "metadata": {}
  },
  {
   "cell_type": "code",
   "execution_count": 1,
   "metadata": {},
   "outputs": [
    {
     "output_type": "stream",
     "name": "stdout",
     "text": [
      "2000 is leap year.\n"
     ]
    }
   ],
   "source": [
    "year = int(input('연도를 입력하세요'))\n",
    "\n",
    "if year % 400 == 0:\n",
    "    print(f'{year} is leap year.')\n",
    "elif year % 100 == 0:\n",
    "    print(f'{year} is not leap year.')\n",
    "elif year % 400 == 0:\n",
    "     print(f'{year} is leap year.')\n",
    "else:\n",
    "    print('f{year} is not leap year.')"
   ]
  },
  {
   "cell_type": "code",
   "execution_count": 42,
   "metadata": {},
   "outputs": [
    {
     "output_type": "stream",
     "name": "stdout",
     "text": [
      "2000 is leap year.\n"
     ]
    }
   ],
   "source": [
    "if (year % 4 == 0 and year % 100 != 0) or year % 400 == 0:\n",
    "    print(f'{year} is leap year.')\n",
    "else:\n",
    "    print(f'{year} is not leap year.')"
   ]
  },
  {
   "source": [
    "### 1-2 만나이 구하기"
   ],
   "cell_type": "markdown",
   "metadata": {}
  },
  {
   "cell_type": "code",
   "execution_count": 43,
   "metadata": {},
   "outputs": [],
   "source": [
    "from datetime import date\n",
    "today = date.today()"
   ]
  },
  {
   "cell_type": "code",
   "execution_count": 44,
   "metadata": {},
   "outputs": [
    {
     "output_type": "execute_result",
     "data": {
      "text/plain": [
       "(2000, 5, 26)"
      ]
     },
     "metadata": {},
     "execution_count": 44
    }
   ],
   "source": [
    "year, month, day = map(int, input('생일 입력').split())\n",
    "year, month, day"
   ]
  },
  {
   "cell_type": "code",
   "execution_count": 45,
   "metadata": {},
   "outputs": [
    {
     "output_type": "stream",
     "name": "stdout",
     "text": [
      "만나이는 20입니다.\n"
     ]
    }
   ],
   "source": [
    "if month> today.month:\n",
    "    age = today.year - year - 1\n",
    "elif month < today.month:\n",
    "    age = today.year - year\n",
    "else:\n",
    "    if day > today.day:\n",
    "        age = today.year - year - 1\n",
    "    else:\n",
    "        age = today.year - year\n",
    "print(f'만나이는 {age}입니다.')"
   ]
  },
  {
   "source": [
    "### 1-3 피타고라스 수"
   ],
   "cell_type": "markdown",
   "metadata": {}
  },
  {
   "cell_type": "code",
   "execution_count": 14,
   "metadata": {},
   "outputs": [
    {
     "output_type": "stream",
     "name": "stdout",
     "text": [
      "200, 375, 425\n"
     ]
    }
   ],
   "source": [
    "# 방법 1\n",
    "for a in range(1, 333):\n",
    "    for b in range(a+1, 500):\n",
    "        c = 1000 - a - b\n",
    "        if c*c == a*a + b*b:\n",
    "            print(f'{a}, {b}, {c}')\n",
    "            break"
   ]
  },
  {
   "cell_type": "code",
   "execution_count": 12,
   "metadata": {},
   "outputs": [
    {
     "output_type": "stream",
     "name": "stdout",
     "text": [
      "200, 375, 425\n"
     ]
    }
   ],
   "source": [
    "# 방법 2\n",
    "for a in range(1, 333):\n",
    "    for b in range(a+1, 500):\n",
    "        c = 1000 - a - b\n",
    "        if c > (a + b):\n",
    "            continue\n",
    "        if c*c == a*a + b*b:\n",
    "            print(f'{a}, {b}, {c}')\n",
    "            break"
   ]
  },
  {
   "source": [
    "### 2-1 다이아몬드 그리기"
   ],
   "cell_type": "markdown",
   "metadata": {}
  },
  {
   "cell_type": "code",
   "execution_count": 38,
   "metadata": {},
   "outputs": [
    {
     "output_type": "stream",
     "name": "stdout",
     "text": [
      "   +\n  +++\n +++++\n+++++++\n +++++\n  +++\n   +\n"
     ]
    }
   ],
   "source": [
    "import math\n",
    "N = int(input('홀수 입력'))\n",
    "half = math.ceil(N/2)\n",
    "for i in range(1, half +1):\n",
    "    for k in range(half -i):\n",
    "        print(' ',sep='', end='')\n",
    "    for k in range(2*i-1):\n",
    "        print('+',sep='',end='')\n",
    "    print()\n",
    "for i in range(1, half):\n",
    "    for k in range(i):\n",
    "        print(' ',sep='',end='')\n",
    "    for k in range(2*(half-i)-1):\n",
    "        print('+', sep='', end='')\n",
    "    print()"
   ]
  },
  {
   "source": [
    "### 2-2 디지털 시계"
   ],
   "cell_type": "markdown",
   "metadata": {}
  },
  {
   "cell_type": "code",
   "execution_count": 25,
   "metadata": {},
   "outputs": [
    {
     "output_type": "stream",
     "name": "stdout",
     "text": [
      "29700\n"
     ]
    }
   ],
   "source": [
    "total_seconds = 0\n",
    "for hour in range(24):\n",
    "    for min in range(60):\n",
    "        time = str(hour) + str(min)\n",
    "        if '3' in time:\n",
    "            total_seconds += 60\n",
    "print(total_seconds)"
   ]
  },
  {
   "source": [
    "### 2-3 숫자의 갯수"
   ],
   "cell_type": "markdown",
   "metadata": {}
  },
  {
   "cell_type": "code",
   "execution_count": 34,
   "metadata": {},
   "outputs": [
    {
     "output_type": "stream",
     "name": "stdout",
     "text": [
      "[192, 301, 300, 300, 300, 300, 300, 300, 300, 300]\n"
     ]
    }
   ],
   "source": [
    "# 방법 1\n",
    "num_counts = [0,0,0,0,0,0,0,0,0,0]\n",
    "for i in range(1, 10):\n",
    "    num_counts[i] += 1\n",
    "for i in range(10, 100):\n",
    "    ten = i // 10\n",
    "    one = i % 10\n",
    "    num_counts[ten] += 1\n",
    "    num_counts[one] += 1\n",
    "for i in range(100, 1000):\n",
    "    hundred = i // 100\n",
    "    ten =(i // 10) % 10    \n",
    "    one = i % 10\n",
    "    num_counts[hundred] += 1\n",
    "    num_counts[ten] += 1\n",
    "    num_counts[one] += 1\n",
    "num_counts[1] += 1\n",
    "num_counts[0] += 3\n",
    "print(num_counts)"
   ]
  },
  {
   "cell_type": "code",
   "execution_count": 39,
   "metadata": {},
   "outputs": [],
   "source": [
    "# 방법 2\n",
    "num_counts = [0,0,0,0,0,0,0,0,0,0]\n",
    "numbers = ''\n",
    "for i in range(1, 1001):\n",
    "    numbers += str(i)"
   ]
  },
  {
   "cell_type": "code",
   "execution_count": 40,
   "metadata": {},
   "outputs": [
    {
     "output_type": "execute_result",
     "data": {
      "text/plain": [
       "192"
      ]
     },
     "metadata": {},
     "execution_count": 40
    }
   ],
   "source": [
    "numbers.count('0')      # 0의 개수를 구하는 함수"
   ]
  },
  {
   "cell_type": "code",
   "execution_count": 41,
   "metadata": {},
   "outputs": [
    {
     "output_type": "stream",
     "name": "stdout",
     "text": [
      "[192, 301, 300, 300, 300, 300, 300, 300, 300, 300]\n"
     ]
    }
   ],
   "source": [
    "# 방법 3\n",
    "for i in range(10):\n",
    "    num_counts[i] = numbers.count(str(i))\n",
    "print(num_counts)"
   ]
  },
  {
   "source": [
    "### 2-4 완전수 구하기"
   ],
   "cell_type": "markdown",
   "metadata": {}
  },
  {
   "cell_type": "code",
   "execution_count": 21,
   "metadata": {},
   "outputs": [
    {
     "output_type": "stream",
     "name": "stdout",
     "text": [
      "6\n",
      "28\n",
      "496\n",
      "8128\n"
     ]
    }
   ],
   "source": [
    "for num in range(2, 10001):\n",
    "    sum = 0\n",
    "    for i in range(1, num):\n",
    "        if num % i == 0:\n",
    "            sum += i            # 여기까지 자기자신을 제외한 약수\n",
    "    if sum == num:              # 그 수의 합\n",
    "        print(num)"
   ]
  },
  {
   "cell_type": "code",
   "execution_count": 19,
   "metadata": {},
   "outputs": [
    {
     "output_type": "stream",
     "name": "stdout",
     "text": [
      "1\n2\n3\n4\n6\n12\n"
     ]
    }
   ],
   "source": [
    "# 약수 찾기 - 예) 12\n",
    "for i in range(1, 12+1):        # 12+1을 해야 12까지 나옴\n",
    "    if 12 % i == 0:             # 12를 i로 나눈게 0 이면\n",
    "        print(i)                # 12의 약수들"
   ]
  },
  {
   "cell_type": "code",
   "execution_count": 20,
   "metadata": {},
   "outputs": [
    {
     "output_type": "stream",
     "name": "stdout",
     "text": [
      "1\n2\n3\n4\n6\n12\n"
     ]
    }
   ],
   "source": [
    "# 약수 찾기2 - 예) 12\n",
    "num = 12                        # num이라는 변수 생성해서 저장하기\n",
    "for i in range(1, num+1):      \n",
    "    if num % i == 0:            \n",
    "        print(i)              "
   ]
  },
  {
   "cell_type": "code",
   "execution_count": 22,
   "metadata": {},
   "outputs": [
    {
     "output_type": "stream",
     "name": "stdout",
     "text": [
      "14211\n"
     ]
    }
   ],
   "source": [
    "# 자기자신을 제외한 약수의 값\n",
    "sum = 0                    # sum = 0 을 추가함\n",
    "for i in range(1, num):    # num + 1을 안하며 됨/ 자기 자신을 제외함  \n",
    "    if num % i == 0:\n",
    "        sum += i            \n",
    "print(sum)                   # sum하고 num이 걑으면 완전수"
   ]
  },
  {
   "source": [
    "### 2-5 제곱의 합, 합의 제곱"
   ],
   "cell_type": "markdown",
   "metadata": {}
  },
  {
   "cell_type": "code",
   "execution_count": 27,
   "metadata": {},
   "outputs": [
    {
     "output_type": "stream",
     "name": "stdout",
     "text": [
      "1에서 5 까지의 합의 제곱과 제곱의 합\n합의 제곱: 225, 제곱의 합: 55\n차이: 170\n"
     ]
    }
   ],
   "source": [
    "num = int (input('양의 정수 입력'))\n",
    "square_of_sum, sum_of_square, sum = 0, 0, 0\n",
    "for i in range(1, num+1):\n",
    "    sum_of_square += i*i\n",
    "    square_of_sum += i\n",
    "print(f'1에서 {num} 까지의 합의 제곱과 제곱의 합')\n",
    "print(f'합의 제곱: {square_of_sum**2}, 제곱의 합: {sum_of_square}')\n",
    "print(f'차이: {square_of_sum**2 - sum_of_square}')"
   ]
  }
 ]
}