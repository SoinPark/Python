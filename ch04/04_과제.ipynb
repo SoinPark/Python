{
 "metadata": {
  "language_info": {
   "codemirror_mode": {
    "name": "ipython",
    "version": 3
   },
   "file_extension": ".py",
   "mimetype": "text/x-python",
   "name": "python",
   "nbconvert_exporter": "python",
   "pygments_lexer": "ipython3",
   "version": "3.8.5"
  },
  "orig_nbformat": 2,
  "kernelspec": {
   "name": "python385jvsc74a57bd08c1eae21719a0790335dcb83aad72b63b602cfe5cdb2bda0f60bc11d4f154e4b",
   "display_name": "Python 3.8.5 64-bit ('base': conda)"
  }
 },
 "nbformat": 4,
 "nbformat_minor": 2,
 "cells": [
  {
   "source": [
    "## 1. 조건문"
   ],
   "cell_type": "markdown",
   "metadata": {}
  },
  {
   "source": [
    "#### 1-1\n",
    "- 연도를 입력해 윤년인지 아닌지를 출력하시오"
   ],
   "cell_type": "markdown",
   "metadata": {}
  },
  {
   "cell_type": "code",
   "execution_count": 58,
   "metadata": {},
   "outputs": [
    {
     "output_type": "stream",
     "name": "stdout",
     "text": [
      "1900 년은 평년입니다\n"
     ]
    }
   ],
   "source": [
    "year = int(input('연도를 입력하세요'))\n",
    "\n",
    "if year % 4 == 0 and year % 100 != 0 or year % 400 == 0:\n",
    "    print(year, '년은 윤년입니다')\n",
    "else:\n",
    "    print(year, '년은 평년입니다')"
   ]
  },
  {
   "source": [
    "#### 1-2\n",
    "- 오늘 날짜의 만 나이를 구하시오"
   ],
   "cell_type": "markdown",
   "metadata": {}
  },
  {
   "cell_type": "code",
   "execution_count": 63,
   "metadata": {},
   "outputs": [
    {
     "output_type": "stream",
     "name": "stdout",
     "text": [
      "만나이 22\n"
     ]
    }
   ],
   "source": [
    "from datetime import date\n",
    "date.today()\n",
    "\n",
    "today = date.today()\n",
    "today.year, today.month, today.day\n",
    "\n",
    "bir_y = int(input('출생년을 입력해 주세요'))\n",
    "bir_m = int(input('출생월을 입력해 주세요'))\n",
    "bir_d = int(input('출생일을 입력해 주세요'))\n",
    "\n",
    "if bir_m < now_m :\n",
    "    age = now_y - bir_y\n",
    "elif bir_m == now_d:\n",
    "    if bir_d <= now_d :\n",
    "        age = now_y - bir_y\n",
    "    else:\n",
    "        age = now_y - bir_y - 1\n",
    "else:\n",
    "    age = now_y -bir_y - 1\n",
    "\n",
    "print('만나이', age)"
   ]
  },
  {
   "source": [
    "#### 1-3"
   ],
   "cell_type": "markdown",
   "metadata": {}
  },
  {
   "cell_type": "code",
   "execution_count": null,
   "metadata": {},
   "outputs": [],
   "source": []
  },
  {
   "source": [
    "## 2. 반복문 "
   ],
   "cell_type": "markdown",
   "metadata": {}
  },
  {
   "source": [
    "### 2-1\n",
    "- 5 이상 9 이하의 홀수를 입력받아 다이아몬드 형태의 별을 출력하시오."
   ],
   "cell_type": "markdown",
   "metadata": {}
  },
  {
   "cell_type": "code",
   "execution_count": 10,
   "metadata": {},
   "outputs": [
    {
     "output_type": "stream",
     "name": "stdout",
     "text": [
      "    *    \n   ***   \n  *****  \n ******* \n  *****  \n   ***   \n    *    \n"
     ]
    }
   ],
   "source": [
    "N = 7\n",
    "if N % 2 == 1:\n",
    "    i = 1\n",
    "else :\n",
    "    i = 2\n",
    "\n",
    "for i in range(i, N+1, 2):\n",
    "    blank = ' '*((N-i)//2)\n",
    "    star = '*'* i\n",
    "    print(blank, star,blank)\n",
    "\n",
    "for i in range(i-2, 0, -2):\n",
    "    blank = ' '*((N-i)//2)\n",
    "    star = '*'*i\n",
    "    print(blank, star,blank)"
   ]
  },
  {
   "source": [
    "### 2-2"
   ],
   "cell_type": "markdown",
   "metadata": {}
  },
  {
   "source": [
    "### 2-3"
   ],
   "cell_type": "markdown",
   "metadata": {}
  },
  {
   "cell_type": "code",
   "execution_count": 76,
   "metadata": {},
   "outputs": [
    {
     "output_type": "stream",
     "name": "stdout",
     "text": [
      "{0: 192, 1: 301, 2: 300, 3: 300, 4: 300, 5: 300, 6: 300, 7: 300, 8: 300, 9: 300}\n"
     ]
    }
   ],
   "source": [
    "num = {x:0 for x in range(0,10)}\n",
    "\n",
    "for x in range (1, 1001):\n",
    "    for i in str(x):\n",
    "        num[int(i)] += 1\n",
    "print(num)"
   ]
  },
  {
   "source": [
    "### 2-4"
   ],
   "cell_type": "markdown",
   "metadata": {}
  },
  {
   "cell_type": "code",
   "execution_count": null,
   "metadata": {},
   "outputs": [],
   "source": [
    "num = int(input('숫자를 입력하세요'))\n",
    "\n",
    "for i in range(1, num+1)"
   ]
  }
 ]
}