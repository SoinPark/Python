{
 "metadata": {
  "language_info": {
   "codemirror_mode": {
    "name": "ipython",
    "version": 3
   },
   "file_extension": ".py",
   "mimetype": "text/x-python",
   "name": "python",
   "nbconvert_exporter": "python",
   "pygments_lexer": "ipython3",
   "version": "3.8.5"
  },
  "orig_nbformat": 2,
  "kernelspec": {
   "name": "python385jvsc74a57bd08c1eae21719a0790335dcb83aad72b63b602cfe5cdb2bda0f60bc11d4f154e4b",
   "display_name": "Python 3.8.5 64-bit ('base': conda)"
  }
 },
 "nbformat": 4,
 "nbformat_minor": 2,
 "cells": [
  {
   "source": [
    "# 반목문"
   ],
   "cell_type": "markdown",
   "metadata": {}
  },
  {
   "source": [
    "## 1) for문\n",
    "- for문 : 정해진 횟수를 알고 있을 때 / for 변수 in sequence: <- 이런형식으로 사용\n",
    "- range()\n",
    "- list\n",
    "- tuple\n",
    "- string"
   ],
   "cell_type": "markdown",
   "metadata": {}
  },
  {
   "cell_type": "code",
   "execution_count": 1,
   "metadata": {},
   "outputs": [
    {
     "output_type": "stream",
     "name": "stdout",
     "text": [
      "Hello World.\nHello World.\nHello World.\nHello World.\nHello World.\n"
     ]
    }
   ],
   "source": [
    "for i in range(5):\n",
    "    print('Hello World.')"
   ]
  },
  {
   "cell_type": "code",
   "execution_count": 2,
   "metadata": {},
   "outputs": [
    {
     "output_type": "stream",
     "name": "stdout",
     "text": [
      "1\n2\n3\n4\n5\n"
     ]
    }
   ],
   "source": [
    "# range(시작 숫자, 끝 숫자 + 증가분, 증가분)\n",
    "# 1에서 5까지 출력\n",
    "for i in range(1, 6):\n",
    "    print(i)"
   ]
  },
  {
   "cell_type": "code",
   "execution_count": 3,
   "metadata": {},
   "outputs": [
    {
     "output_type": "stream",
     "name": "stdout",
     "text": [
      "1\n3\n5\n7\n9\n"
     ]
    }
   ],
   "source": [
    "# 리스트\n",
    "for i in [1,3,5,7,9]:\n",
    "    print(i)"
   ]
  },
  {
   "cell_type": "code",
   "execution_count": 4,
   "metadata": {},
   "outputs": [
    {
     "output_type": "stream",
     "name": "stdout",
     "text": [
      "1\n3\n5\n7\n9\n"
     ]
    }
   ],
   "source": [
    "# 튜플\n",
    "for i in (1,3,5,7,9):\n",
    "    print(i)"
   ]
  },
  {
   "cell_type": "code",
   "execution_count": 5,
   "metadata": {},
   "outputs": [
    {
     "output_type": "stream",
     "name": "stdout",
     "text": [
      "H\ne\nl\nl\no\n"
     ]
    }
   ],
   "source": [
    "# 문자열\n",
    "for char in 'Hello':\n",
    "    print(char)"
   ]
  },
  {
   "cell_type": "code",
   "execution_count": 6,
   "metadata": {},
   "outputs": [
    {
     "output_type": "stream",
     "name": "stdout",
     "text": [
      "I\nlove\nyou.\n"
     ]
    }
   ],
   "source": [
    "# 리스트 결과가 나오는 구문\n",
    "for s in 'I love you.' .split():\n",
    "    print(s)"
   ]
  },
  {
   "source": [
    "## 2) while 문\n",
    "- while문 : 정해진 횟수를 알고 있지 않을 떄\n",
    "- while문 다음의 조건이 참일 동안 수행한다.\n",
    "- 지켜야 할 것: 조건이 변화되도록 해야함.\n",
    "                loop를 탈출할 수 있는 조건이 있어야 함 -> 그렇지 않으면 무한 루프에 빠지게 된다"
   ],
   "cell_type": "markdown",
   "metadata": {}
  },
  {
   "cell_type": "code",
   "execution_count": 7,
   "metadata": {},
   "outputs": [
    {
     "output_type": "stream",
     "name": "stdout",
     "text": [
      "1\n2\n3\n4\n5\n"
     ]
    }
   ],
   "source": [
    "# for i in range(1, 6):\n",
    "#     print(i)          # for문이랑 동일한 결과의 while문 만들기\n",
    "\n",
    "i = 1     # 시작값(1)을 찍어주고 시작 \n",
    "while i < 6:\n",
    "    print(i)\n",
    "    i += 1"
   ]
  },
  {
   "cell_type": "code",
   "execution_count": 8,
   "metadata": {},
   "outputs": [
    {
     "output_type": "stream",
     "name": "stdout",
     "text": [
      "144\n"
     ]
    }
   ],
   "source": [
    "# break : 반복문에서 논리적으로 반복을 종료하는 방법  \n",
    "# 사용자가 정수를 입력\n",
    "# 숫자가 나오면 계속 더하고\n",
    "# 0이 나오면 합계를 출력하는 프로그램\n",
    "sum = 0\n",
    "while True:\n",
    "    num = int(input('정수 입력.'))\n",
    "    if num == 0:\n",
    "        break         # 탈출하게 해주는 입력어\n",
    "    sum += num        # 위에 sum= 0 을 해줘야 출력가능\n",
    "print(sum)"
   ]
  }
 ]
}