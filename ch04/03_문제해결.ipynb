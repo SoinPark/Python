{
 "metadata": {
  "language_info": {
   "codemirror_mode": {
    "name": "ipython",
    "version": 3
   },
   "file_extension": ".py",
   "mimetype": "text/x-python",
   "name": "python",
   "nbconvert_exporter": "python",
   "pygments_lexer": "ipython3",
   "version": "3.8.5"
  },
  "orig_nbformat": 2,
  "kernelspec": {
   "name": "python385jvsc74a57bd08c1eae21719a0790335dcb83aad72b63b602cfe5cdb2bda0f60bc11d4f154e4b",
   "display_name": "Python 3.8.5 64-bit ('base': conda)"
  }
 },
 "nbformat": 4,
 "nbformat_minor": 2,
 "cells": [
  {
   "source": [
    "## 1. 구구단 계산기"
   ],
   "cell_type": "markdown",
   "metadata": {}
  },
  {
   "cell_type": "code",
   "execution_count": 1,
   "metadata": {},
   "outputs": [
    {
     "output_type": "stream",
     "name": "stdout",
     "text": [
      "6 x 1 = 6\n6 x 2 = 12\n6 x 3 = 18\n6 x 4 = 24\n6 x 5 = 30\n6 x 6 = 36\n6 x 7 = 42\n6 x 8 = 48\n6 x 9 = 54\n6 x 10 = 60\n6 x 11 = 66\n6 x 12 = 72\n6 x 13 = 78\n6 x 14 = 84\n6 x 15 = 90\n6 x 16 = 96\n6 x 17 = 102\n6 x 18 = 108\n6 x 19 = 114\n6 x 20 = 120\n6 x 21 = 126\n6 x 22 = 132\n6 x 23 = 138\n6 x 24 = 144\n6 x 25 = 150\n6 x 26 = 156\n6 x 27 = 162\n6 x 28 = 168\n6 x 29 = 174\n6 x 30 = 180\n6 x 31 = 186\n6 x 32 = 192\n6 x 33 = 198\n6 x 34 = 204\n6 x 35 = 210\n6 x 36 = 216\n6 x 37 = 222\n6 x 38 = 228\n6 x 39 = 234\n6 x 40 = 240\n6 x 41 = 246\n6 x 42 = 252\n6 x 43 = 258\n6 x 44 = 264\n6 x 45 = 270\n6 x 46 = 276\n6 x 47 = 282\n6 x 48 = 288\n6 x 49 = 294\n6 x 50 = 300\n6 x 51 = 306\n6 x 52 = 312\n6 x 53 = 318\n6 x 54 = 324\n6 x 55 = 330\n6 x 56 = 336\n6 x 57 = 342\n6 x 58 = 348\n6 x 59 = 354\n6 x 60 = 360\n6 x 61 = 366\n6 x 62 = 372\n6 x 63 = 378\n6 x 64 = 384\n6 x 65 = 390\n6 x 66 = 396\n6 x 67 = 402\n6 x 68 = 408\n6 x 69 = 414\n6 x 70 = 420\n6 x 71 = 426\n6 x 72 = 432\n6 x 73 = 438\n6 x 74 = 444\n6 x 75 = 450\n6 x 76 = 456\n6 x 77 = 462\n6 x 78 = 468\n6 x 79 = 474\n6 x 80 = 480\n6 x 81 = 486\n6 x 82 = 492\n6 x 83 = 498\n6 x 84 = 504\n6 x 85 = 510\n6 x 86 = 516\n6 x 87 = 522\n6 x 88 = 528\n6 x 89 = 534\n6 x 90 = 540\n6 x 91 = 546\n6 x 92 = 552\n6 x 93 = 558\n6 x 94 = 564\n6 x 95 = 570\n6 x 96 = 576\n6 x 97 = 582\n6 x 98 = 588\n6 x 99 = 594\n6 x 100 = 600\n"
     ]
    }
   ],
   "source": [
    "# 구구단 6단\n",
    "n = 6\n",
    "for i in range(1, 101):\n",
    "    print(f'{n} x {i} = {n*i}')"
   ]
  },
  {
   "source": [
    "## 2. 문자열 역순 출력"
   ],
   "cell_type": "markdown",
   "metadata": {}
  },
  {
   "cell_type": "code",
   "execution_count": 6,
   "metadata": {},
   "outputs": [
    {
     "output_type": "stream",
     "name": "stdout",
     "text": [
      "I love you uoy evol I\n"
     ]
    }
   ],
   "source": [
    "sentence = input()\n",
    "reverse_sentence = ''\n",
    "for char in sentence:\n",
    "    reverse_sentence = char + reverse_sentence\n",
    "print(sentence, reverse_sentence)"
   ]
  },
  {
   "source": [
    "## 3. 십진수를 이진수로 변환"
   ],
   "cell_type": "markdown",
   "metadata": {}
  },
  {
   "cell_type": "code",
   "execution_count": 7,
   "metadata": {},
   "outputs": [
    {
     "output_type": "stream",
     "name": "stdout",
     "text": [
      "10100\n"
     ]
    }
   ],
   "source": [
    "num = 20        # 십진수 값\n",
    "answer = ''     # 이진수 값을 지정할 NULL String\n",
    "while num > 0:\n",
    "    remainder = num % 2     # 나머지\n",
    "    num = num // 2          # 몫\n",
    "    answer = str(remainder) + answer\n",
    "print(answer)"
   ]
  },
  {
   "source": [
    "## 4. 숫자 찾기 게임"
   ],
   "cell_type": "markdown",
   "metadata": {}
  },
  {
   "cell_type": "code",
   "execution_count": 8,
   "metadata": {},
   "outputs": [],
   "source": [
    "import random\n",
    "random_number = random.randint(1, 100)  # 임의로 숫자 지정"
   ]
  },
  {
   "cell_type": "code",
   "execution_count": 13,
   "metadata": {},
   "outputs": [
    {
     "output_type": "stream",
     "name": "stdout",
     "text": [
      "Bingo. 정답은 19!!!\n"
     ]
    }
   ],
   "source": [
    "while True:\n",
    "    guess = int(input('1~100 사이의 정수를 찾아보세요.'))\n",
    "    if guess == random_number:\n",
    "        print(f'Bingo. 정답은 {guess}!!!')\n",
    "        break\n",
    "    if guess > random_number:\n",
    "        print(f'입력한 숫자{guess} 은/는 큽니다')\n",
    "    else:\n",
    "        print(f'입력한 숫자{guess} 은/는 작습니다')"
   ]
  },
  {
   "source": [
    "## 5-1 별표 그리기"
   ],
   "cell_type": "markdown",
   "metadata": {}
  },
  {
   "cell_type": "code",
   "execution_count": 15,
   "metadata": {},
   "outputs": [
    {
     "output_type": "stream",
     "name": "stdout",
     "text": [
      "+\n++\n+++\n++++\n+++++\n"
     ]
    }
   ],
   "source": [
    "for i in range(1, 6):\n",
    "    for k in range(i):\n",
    "        print('+', sep='', end='')          # 여기서 그냥 엔터를 칠경우 +++++++ 이런식으로 결과값이 출력된다. 아래에 print() 생성 후 쳐야 +가 단계별로 나눠짐\n",
    "    print()"
   ]
  },
  {
   "cell_type": "code",
   "execution_count": 19,
   "metadata": {},
   "outputs": [
    {
     "output_type": "stream",
     "name": "stdout",
     "text": [
      "+++++\n ++++\n  +++\n   ++\n    +\n"
     ]
    }
   ],
   "source": [
    "for i in range(1, 6):\n",
    "    for k in range(1, i):       # blank 출력\n",
    "        print(' ', sep='', end='')\n",
    "    for k in range(5-i+1):      # * 출력\n",
    "        print('+', sep='', end='')\n",
    "    print()"
   ]
  }
 ]
}