{
 "metadata": {
  "language_info": {
   "codemirror_mode": {
    "name": "ipython",
    "version": 3
   },
   "file_extension": ".py",
   "mimetype": "text/x-python",
   "name": "python",
   "nbconvert_exporter": "python",
   "pygments_lexer": "ipython3",
   "version": "3.8.5"
  },
  "orig_nbformat": 2,
  "kernelspec": {
   "name": "python385jvsc74a57bd08c1eae21719a0790335dcb83aad72b63b602cfe5cdb2bda0f60bc11d4f154e4b",
   "display_name": "Python 3.8.5 64-bit ('base': conda)"
  }
 },
 "nbformat": 4,
 "nbformat_minor": 2,
 "cells": [
  {
   "source": [
    "# 11장. 모듈과 패키지"
   ],
   "cell_type": "markdown",
   "metadata": {}
  },
  {
   "source": [
    "## - 모듈 만들기\n",
    " - 모듈 만들기\n",
    "- .py 안에 함수를 생성해 저장한다음 사용한다"
   ],
   "cell_type": "markdown",
   "metadata": {}
  },
  {
   "cell_type": "code",
   "execution_count": 1,
   "metadata": {},
   "outputs": [],
   "source": [
    "def convert_c2f(celcius_value):\n",
    "    return celcius_value * 9. / 5 + 32     ㄴ # .찍어 실수로 만듬"
   ]
  },
  {
   "cell_type": "code",
   "execution_count": 4,
   "metadata": {},
   "outputs": [
    {
     "output_type": "stream",
     "name": "stdout",
     "text": [
      "섭씨 온도: 15.1, 화씨온도: 59.2\n"
     ]
    }
   ],
   "source": [
    "celcius = float(input('섭씨 온도'))\n",
    "fahrenheit = convert_c2f(celcius)\n",
    "print(f'섭씨 온도: {celcius:.1f}, 화씨온도: {fahrenheit:.1f}')      # 소수점 첫째자리까지"
   ]
  },
  {
   "cell_type": "code",
   "execution_count": 5,
   "metadata": {},
   "outputs": [
    {
     "output_type": "stream",
     "name": "stdout",
     "text": [
      "섭씨 온도: 15.1, 화씨온도: 59.2\n"
     ]
    }
   ],
   "source": [
    "# module1 이라는 .py 생성 후 import해서 사용\n",
    "import module1\n",
    "\n",
    "celcius = float(input('섭씨 온도'))\n",
    "fahrenheit = module1.convert_c2f_m(celcius)    # module1. 추가\n",
    "print(f'섭씨 온도: {celcius:.1f}, 화씨온도: {fahrenheit:.1f}')  "
   ]
  },
  {
   "cell_type": "code",
   "execution_count": 7,
   "metadata": {},
   "outputs": [
    {
     "output_type": "stream",
     "name": "stdout",
     "text": [
      "섭씨 온도: 19.0, 화씨온도: 66.2\n"
     ]
    }
   ],
   "source": [
    "import module1 as m1        # as -> alias, 축약명칭\n",
    "\n",
    "celcius = float(input('섭씨 온도'))\n",
    "fahrenheit = m1.convert_c2f_m(celcius)    # m1. 으로 변경\n",
    "print(f'섭씨 온도: {celcius:.1f}, 화씨온도: {fahrenheit:.1f}')  "
   ]
  },
  {
   "cell_type": "code",
   "execution_count": 8,
   "metadata": {},
   "outputs": [
    {
     "output_type": "stream",
     "name": "stdout",
     "text": [
      "섭씨 온도: 21.0, 화씨온도: 69.8\n"
     ]
    }
   ],
   "source": [
    "from module1 import convert_c2f_m\n",
    "\n",
    "celcius = float(input('섭씨 온도'))\n",
    "fahrenheit = convert_c2f_m(celcius)    # from을 사용해 module1을 안쓸수있음\n",
    "print(f'섭씨 온도: {celcius:.1f}, 화씨온도: {fahrenheit:.1f}')  "
   ]
  },
  {
   "cell_type": "code",
   "execution_count": 1,
   "metadata": {},
   "outputs": [
    {
     "output_type": "stream",
     "name": "stdout",
     "text": [
      "섭씨 온도: 37.8, 화씨온도: 100.0\n"
     ]
    }
   ],
   "source": [
    "from module1 import *       # module1에 있는걸 다쓰겠다\n",
    "\n",
    "fahrenheit = float(input('화씨 온도'))\n",
    "celcius = convert_f2c_m(fahrenheit)   \n",
    "print(f'섭씨 온도: {celcius:.1f}, 화씨온도: {fahrenheit:.1f}') "
   ]
  },
  {
   "cell_type": "code",
   "execution_count": 6,
   "metadata": {},
   "outputs": [
    {
     "output_type": "execute_result",
     "data": {
      "text/plain": [
       "37.77777777777778"
      ]
     },
     "metadata": {},
     "execution_count": 6
    }
   ],
   "source": [
    "import module.module1 as mm1\n",
    "mm1.convert_f2c_m(100.)"
   ]
  },
  {
   "source": [
    "## - 내장 모듈"
   ],
   "cell_type": "markdown",
   "metadata": {}
  },
  {
   "cell_type": "code",
   "execution_count": 5,
   "metadata": {},
   "outputs": [
    {
     "output_type": "execute_result",
     "data": {
      "text/plain": [
       "(0.8363375023320742, 180)"
      ]
     },
     "metadata": {},
     "execution_count": 5
    }
   ],
   "source": [
    "import random\n",
    "random.seed(2021)\n",
    "random.random(), random.randint(100, 200)"
   ]
  },
  {
   "cell_type": "code",
   "execution_count": 7,
   "metadata": {},
   "outputs": [
    {
     "output_type": "stream",
     "name": "stdout",
     "text": [
      "time.struct_time(tm_year=2021, tm_mon=5, tm_mday=28, tm_hour=10, tm_min=31, tm_sec=28, tm_wday=4, tm_yday=148, tm_isdst=0)\n"
     ]
    }
   ],
   "source": [
    "import time\n",
    "print(time.localtime())     # 현재 시각 출력"
   ]
  },
  {
   "cell_type": "code",
   "execution_count": null,
   "metadata": {},
   "outputs": [],
   "source": []
  }
 ]
}