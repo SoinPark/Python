{
 "metadata": {
  "language_info": {
   "codemirror_mode": {
    "name": "ipython",
    "version": 3
   },
   "file_extension": ".py",
   "mimetype": "text/x-python",
   "name": "python",
   "nbconvert_exporter": "python",
   "pygments_lexer": "ipython3",
   "version": "3.8.5"
  },
  "orig_nbformat": 2,
  "kernelspec": {
   "name": "python385jvsc74a57bd08c1eae21719a0790335dcb83aad72b63b602cfe5cdb2bda0f60bc11d4f154e4b",
   "display_name": "Python 3.8.5 64-bit (conda)"
  }
 },
 "nbformat": 4,
 "nbformat_minor": 2,
 "cells": [
  {
   "source": [
    "## 여러개 입력 처리"
   ],
   "cell_type": "markdown",
   "metadata": {}
  },
  {
   "cell_type": "code",
   "execution_count": 1,
   "metadata": {},
   "outputs": [
    {
     "output_type": "execute_result",
     "data": {
      "text/plain": [
       "['red', 'green', 'blue']"
      ]
     },
     "metadata": {},
     "execution_count": 1
    }
   ],
   "source": [
    "a = 'red green blue'\n",
    "a.split()"
   ]
  },
  {
   "cell_type": "code",
   "execution_count": 2,
   "metadata": {},
   "outputs": [
    {
     "output_type": "execute_result",
     "data": {
      "text/plain": [
       "['red', 'green', 'blue']"
      ]
     },
     "metadata": {},
     "execution_count": 2
    }
   ],
   "source": [
    "b = 'red,green,blue'\n",
    "b.split(',')     # 콤마를 기준으로 나누기"
   ]
  },
  {
   "cell_type": "code",
   "execution_count": 3,
   "metadata": {},
   "outputs": [
    {
     "output_type": "execute_result",
     "data": {
      "text/plain": [
       "'빨강 초록 파랑'"
      ]
     },
     "metadata": {},
     "execution_count": 3
    }
   ],
   "source": [
    "string = input('빛의 3원색을 빈칸으로 구분하여 입력하세요.')\n",
    "string"
   ]
  },
  {
   "cell_type": "code",
   "execution_count": 4,
   "metadata": {},
   "outputs": [
    {
     "output_type": "execute_result",
     "data": {
      "text/plain": [
       "('빨강', '초록', '파랑')"
      ]
     },
     "metadata": {},
     "execution_count": 4
    }
   ],
   "source": [
    "r,g,b = string.split()\n",
    "r,g,b"
   ]
  },
  {
   "cell_type": "code",
   "execution_count": 6,
   "metadata": {},
   "outputs": [
    {
     "output_type": "execute_result",
     "data": {
      "text/plain": [
       "[3.1, 2.4, 8.5]"
      ]
     },
     "metadata": {},
     "execution_count": 6
    }
   ],
   "source": [
    "numbers = ['3.1','2.4','8.5']\n",
    "list(map(float, numbers))     # float 숫자로 바꿈 "
   ]
  },
  {
   "cell_type": "code",
   "execution_count": 9,
   "metadata": {},
   "outputs": [
    {
     "output_type": "execute_result",
     "data": {
      "text/plain": [
       "[3.1, 2.4, 8.5]"
      ]
     },
     "metadata": {},
     "execution_count": 9
    }
   ],
   "source": [
    "string = '3.1 2.4 8.5'\n",
    "list(map(float, string.split())) "
   ]
  },
  {
   "cell_type": "code",
   "execution_count": 10,
   "metadata": {},
   "outputs": [
    {
     "output_type": "execute_result",
     "data": {
      "text/plain": [
       "'3.1 2.4 8.5'"
      ]
     },
     "metadata": {},
     "execution_count": 10
    }
   ],
   "source": [
    "string = input('실수 세개를 빈칸으로 구분하여 입력하세요.')\n",
    "string"
   ]
  },
  {
   "cell_type": "code",
   "execution_count": 11,
   "metadata": {},
   "outputs": [
    {
     "output_type": "execute_result",
     "data": {
      "text/plain": [
       "[3.1, 2.4, 8.5]"
      ]
     },
     "metadata": {},
     "execution_count": 11
    }
   ],
   "source": [
    "list(map(float, input('실수 세개 입력').split()))"
   ]
  },
  {
   "cell_type": "code",
   "execution_count": 12,
   "metadata": {},
   "outputs": [
    {
     "output_type": "execute_result",
     "data": {
      "text/plain": [
       "(3.1, 2.4, 8.5)"
      ]
     },
     "metadata": {},
     "execution_count": 12
    }
   ],
   "source": [
    "x, y, z = [3.1, 2.4, 8.5]\n",
    "x, y, z"
   ]
  },
  {
   "cell_type": "code",
   "execution_count": 13,
   "metadata": {},
   "outputs": [
    {
     "output_type": "execute_result",
     "data": {
      "text/plain": [
       "(3.14, 1.414, 2.718)"
      ]
     },
     "metadata": {},
     "execution_count": 13
    }
   ],
   "source": [
    "x, y, z = list(map(float, input('실수 세개 입력').split()))\n",
    "x, y, z"
   ]
  },
  {
   "cell_type": "code",
   "execution_count": 14,
   "metadata": {},
   "outputs": [
    {
     "output_type": "execute_result",
     "data": {
      "text/plain": [
       "(1.0, 2.0, 3.0)"
      ]
     },
     "metadata": {},
     "execution_count": 14
    }
   ],
   "source": [
    "x, y, z = map(float, input('실수 세개 입력').split())\n",
    "x, y, z"
   ]
  },
  {
   "source": [
    "## 추가사항"
   ],
   "cell_type": "markdown",
   "metadata": {}
  },
  {
   "source": [
    "### range - sequence 자료형"
   ],
   "cell_type": "markdown",
   "metadata": {}
  },
  {
   "cell_type": "code",
   "execution_count": 15,
   "metadata": {},
   "outputs": [
    {
     "output_type": "execute_result",
     "data": {
      "text/plain": [
       "[0, 1, 2, 3, 4]"
      ]
     },
     "metadata": {},
     "execution_count": 15
    }
   ],
   "source": [
    "# 하나만 있으면 0부터 끝값+1\n",
    "list(range(5))"
   ]
  },
  {
   "cell_type": "code",
   "execution_count": 16,
   "metadata": {},
   "outputs": [
    {
     "output_type": "execute_result",
     "data": {
      "text/plain": [
       "[1, 2, 3, 4, 5, 6, 7, 8, 9, 10]"
      ]
     },
     "metadata": {},
     "execution_count": 16
    }
   ],
   "source": [
    "# 1 ~ 10\n",
    "list(range(1,11))"
   ]
  },
  {
   "cell_type": "code",
   "execution_count": 19,
   "metadata": {},
   "outputs": [
    {
     "output_type": "execute_result",
     "data": {
      "text/plain": [
       "[1, 3, 5, 7, 9]"
      ]
     },
     "metadata": {},
     "execution_count": 19
    }
   ],
   "source": [
    "# 1 ~ 10 까지 홀수만\n",
    "list(range(1, 10, 2))     # 파이썬에서 끝값은(10)은 포함이 안된다"
   ]
  },
  {
   "cell_type": "code",
   "execution_count": 26,
   "metadata": {},
   "outputs": [
    {
     "output_type": "execute_result",
     "data": {
      "text/plain": [
       "[11, 9, 7, 5, 3]"
      ]
     },
     "metadata": {},
     "execution_count": 26
    }
   ],
   "source": [
    "# 10 ~ 1 까지 짝수만\n",
    "list(range(11, 1, -2))"
   ]
  },
  {
   "source": [
    "### 두개의 정수를 입력받아서 첫번째 값에서부터 두번째 값까지 출력\n",
    "#### 단, 두번째 값이 첫번째 값보다 큼"
   ],
   "cell_type": "markdown",
   "metadata": {}
  },
  {
   "cell_type": "code",
   "execution_count": 49,
   "metadata": {},
   "outputs": [
    {
     "output_type": "execute_result",
     "data": {
      "text/plain": [
       "(5, 10)"
      ]
     },
     "metadata": {},
     "execution_count": 49
    }
   ],
   "source": [
    "a, b = map(int,input('두개의 정수를 입력하세요.').split())\n",
    "a, b"
   ]
  },
  {
   "cell_type": "code",
   "execution_count": 50,
   "metadata": {},
   "outputs": [
    {
     "output_type": "stream",
     "name": "stdout",
     "text": [
      "[5, 6, 7, 8, 9, 10]\n"
     ]
    }
   ],
   "source": [
    "print(list(range(a, b+1)))"
   ]
  },
  {
   "cell_type": "code",
   "execution_count": 52,
   "metadata": {},
   "outputs": [
    {
     "output_type": "execute_result",
     "data": {
      "text/plain": [
       "(5, 10)"
      ]
     },
     "metadata": {},
     "execution_count": 52
    }
   ],
   "source": [
    "a, b = map(int, input().split())     # 위와 같은 또다른 방법\n",
    "a, b"
   ]
  },
  {
   "cell_type": "code",
   "execution_count": null,
   "metadata": {},
   "outputs": [],
   "source": []
  }
 ]
}