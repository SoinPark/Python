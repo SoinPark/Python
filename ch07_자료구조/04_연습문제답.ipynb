{
 "metadata": {
  "language_info": {
   "codemirror_mode": {
    "name": "ipython",
    "version": 3
   },
   "file_extension": ".py",
   "mimetype": "text/x-python",
   "name": "python",
   "nbconvert_exporter": "python",
   "pygments_lexer": "ipython3",
   "version": "3.8.5"
  },
  "orig_nbformat": 2,
  "kernelspec": {
   "name": "python385jvsc74a57bd08c1eae21719a0790335dcb83aad72b63b602cfe5cdb2bda0f60bc11d4f154e4b",
   "display_name": "Python 3.8.5 64-bit ('base': conda)"
  }
 },
 "nbformat": 4,
 "nbformat_minor": 2,
 "cells": [
  {
   "source": [
    "## 1. 씨저 암호\n",
    "- 평문 Plain Text <-> 비문 Cipher Text 서로 바꿔주는 것을 인코딩이라고 한다."
   ],
   "cell_type": "markdown",
   "metadata": {}
  },
  {
   "cell_type": "code",
   "execution_count": 2,
   "metadata": {},
   "outputs": [],
   "source": [
    "def encode(plain, n):\n",
    "    cipher = ''\n",
    "    for c in plain:\n",
    "        diff = ord(c) - ord('A') + n\n",
    "        if diff >= 26:\n",
    "            cipher += chr(ord('A') + diff % 26)     # diff를 26 모듈로 연산\n",
    "        else:\n",
    "            cipher += chr(ord(c) + n)\n",
    "    return cipher"
   ]
  },
  {
   "cell_type": "code",
   "execution_count": 3,
   "metadata": {},
   "outputs": [],
   "source": [
    "def decode(cipher, n):\n",
    "    plain = ''\n",
    "    for c in cipher:\n",
    "        diff = ord(c) - ord('A') - n\n",
    "        if diff < 0:\n",
    "            plain += chr(ord('Z') + diff + 1)\n",
    "        else:\n",
    "            plain += chr(ord(c) - n)\n",
    "    return plain"
   ]
  },
  {
   "cell_type": "code",
   "execution_count": 5,
   "metadata": {},
   "outputs": [
    {
     "output_type": "execute_result",
     "data": {
      "text/plain": [
       "'ABCXYZ'"
      ]
     },
     "metadata": {},
     "execution_count": 5
    }
   ],
   "source": [
    "decode(encode('ABCXYZ', 3), 3)"
   ]
  },
  {
   "cell_type": "code",
   "execution_count": 7,
   "metadata": {},
   "outputs": [
    {
     "output_type": "stream",
     "name": "stdout",
     "text": [
      "입력값 qwerty, 5 에 대한 암호는 VBJWYD 해독하면 QWERTY\n"
     ]
    }
   ],
   "source": [
    "word, n = input('String N 입력').split()\n",
    "cipher = encode(word.upper(), int(n))\n",
    "plain = decode(cipher, int(n))\n",
    "print(f'입력값 {word}, {n} 에 대한 암호는 {cipher} 해독하면 {plain}')"
   ]
  },
  {
   "source": [
    "## 2. 심사문제 24.5 'the'의 개수 출력"
   ],
   "cell_type": "markdown",
   "metadata": {}
  },
  {
   "cell_type": "code",
   "execution_count": 8,
   "metadata": {},
   "outputs": [
    {
     "output_type": "execute_result",
     "data": {
      "text/plain": [
       "3"
      ]
     },
     "metadata": {},
     "execution_count": 8
    }
   ],
   "source": [
    "text = 'The them their there'\n",
    "text.count('the')"
   ]
  },
  {
   "cell_type": "code",
   "execution_count": 19,
   "metadata": {},
   "outputs": [
    {
     "output_type": "execute_result",
     "data": {
      "text/plain": [
       "8"
      ]
     },
     "metadata": {},
     "execution_count": 19
    }
   ],
   "source": [
    "text = \"\"\"\n",
    "the grown-ups' response, this time, was to advise me to lay aside my drawings of boa constrictors, whether from the inside or the outside, and devote myself instead to geography, history, arithmetic, and grammar. That is why, at the, age of six, I gave up what might have been a magnificent career as a painter. I had been disheartened by the failure of my Drawing Number One and my Drawing Number Two. Grown-ups never understand anything by themselves, and it is tiresome for children to be always and forever explaining things to the.\n",
    "\"\"\"\n",
    "text.count('the')"
   ]
  },
  {
   "cell_type": "code",
   "execution_count": 13,
   "metadata": {},
   "outputs": [
    {
     "output_type": "execute_result",
     "data": {
      "text/plain": [
       "'the grown-ups response this time was to advise me to lay aside my drawings of boa constrictors whether from the inside or the outside and devote myself instead to geography history arithmetic and grammar That is why at the age of six I gave up what might have been a magnificent career as a painter I had been disheartened by the failure of my Drawing Number One and my Drawing Number Two Grown-ups never understand anything by themselves and it is tiresome for children to be always and forever explaining things to the'"
      ]
     },
     "metadata": {},
     "execution_count": 13
    }
   ],
   "source": [
    "# '[  ]' 형식 사용\n",
    "# ' 따옴표 제거하고 싶을 때 -> '[\\']'\n",
    "# 한글, 영문자, 숫자 -> '[ㄱ-하-|가-힣]'\n",
    "\n",
    "import re               # regular expression(정규표현식 모듈) _-> '[]'\n",
    "text = re.sub('[\\'.,\\n]', '', text)     # re.sub(바꿀단어들, 바꿀값, 변수)\n",
    "text"
   ]
  },
  {
   "cell_type": "code",
   "execution_count": 20,
   "metadata": {},
   "outputs": [
    {
     "output_type": "execute_result",
     "data": {
      "text/plain": [
       "'the grownups response this time was to advise me to lay aside my drawings of boa constrictors whether from the inside or the outside and devote myself instead to geography history arithmetic and grammar That is why at the age of six I gave up what might have been a magnificent career as a painter I had been disheartened by the failure of my Drawing Number One and my Drawing Number Two Grownups never understand anything by themselves and it is tiresome for children to be always and forever explaining things to the'"
      ]
     },
     "metadata": {},
     "execution_count": 20
    }
   ],
   "source": [
    "text = re.sub('[^A-Za-z ]', '', text)       # 알파벳만 남겨라 / [^A-Za-z ] 대소문자 알파벳이랑 스페이스가 아닌 것(^)들만\n",
    "text"
   ]
  },
  {
   "cell_type": "code",
   "execution_count": 21,
   "metadata": {},
   "outputs": [
    {
     "output_type": "execute_result",
     "data": {
      "text/plain": [
       "'!\"#$%&\\'()*+,-./:;<=>?@[\\\\]^_`{|}~'"
      ]
     },
     "metadata": {},
     "execution_count": 21
    }
   ],
   "source": [
    "## 특수문자를 불러오는 punctuation 사용해서 제거\n",
    "from string import punctuation\n",
    "punctuation"
   ]
  },
  {
   "cell_type": "code",
   "execution_count": 24,
   "metadata": {},
   "outputs": [
    {
     "output_type": "execute_result",
     "data": {
      "text/plain": [
       "6"
      ]
     },
     "metadata": {},
     "execution_count": 24
    }
   ],
   "source": [
    "text_list = text.lower().strip().split()\n",
    "count = 0\n",
    "for word in text_list:\n",
    "    if word == 'the':\n",
    "        count += 1\n",
    "count"
   ]
  },
  {
   "source": [
    "## 3. 심사문제 24.6 소팅 및 포맷팅"
   ],
   "cell_type": "markdown",
   "metadata": {}
  },
  {
   "cell_type": "code",
   "execution_count": 26,
   "metadata": {},
   "outputs": [
    {
     "output_type": "execute_result",
     "data": {
      "text/plain": [
       "[51900, 83000, 158000, 367500, 250000, 59200, 128500, 1304000]"
      ]
     },
     "metadata": {},
     "execution_count": 26
    }
   ],
   "source": [
    "input_str = '51900;83000;158000;367500;250000;59200;128500;1304000'\n",
    "price_list = list(map(int, input_str.split(';')))\n",
    "price_list"
   ]
  },
  {
   "cell_type": "code",
   "execution_count": 27,
   "metadata": {},
   "outputs": [
    {
     "output_type": "execute_result",
     "data": {
      "text/plain": [
       "[1304000, 367500, 250000, 158000, 128500, 83000, 59200, 51900]"
      ]
     },
     "metadata": {},
     "execution_count": 27
    }
   ],
   "source": [
    "price_list.sort(reverse = True)\n",
    "price_list"
   ]
  },
  {
   "cell_type": "code",
   "execution_count": 29,
   "metadata": {},
   "outputs": [
    {
     "output_type": "stream",
     "name": "stdout",
     "text": [
      "1,304,000\n  367,500\n  250,000\n  158,000\n  128,500\n   83,000\n   59,200\n   51,900\n"
     ]
    }
   ],
   "source": [
    "for price in price_list:\n",
    "    print(f'{price:9,d}')"
   ]
  },
  {
   "source": [
    "## 4. 심사문제 12.5 딕셔너리 만들기"
   ],
   "cell_type": "markdown",
   "metadata": {}
  },
  {
   "cell_type": "code",
   "execution_count": 30,
   "metadata": {},
   "outputs": [
    {
     "output_type": "execute_result",
     "data": {
      "text/plain": [
       "{'health': 575.6, 'health_regen': 1.7, 'mana': 338.8, 'mana_regen': 1.63}"
      ]
     },
     "metadata": {},
     "execution_count": 30
    }
   ],
   "source": [
    "keys = input().split()\n",
    "values = map(float, input().split())\n",
    "lux = dict(zip(keys, values))\n",
    "lux"
   ]
  },
  {
   "source": [
    "## 5. 심사문제 25.8 딕셔너리 만들고 항 삭제하기"
   ],
   "cell_type": "markdown",
   "metadata": {}
  },
  {
   "cell_type": "code",
   "execution_count": 31,
   "metadata": {},
   "outputs": [
    {
     "output_type": "execute_result",
     "data": {
      "text/plain": [
       "{'alpha': 30,\n",
       " 'bravo': 40,\n",
       " 'charlie': 50,\n",
       " 'delta': 60,\n",
       " 'echo': 70,\n",
       " 'foxtrot': 80,\n",
       " 'golf': 90}"
      ]
     },
     "metadata": {},
     "execution_count": 31
    }
   ],
   "source": [
    "keys = input().split()\n",
    "values = map(int, input().split())\n",
    "x = dict(zip(keys, values))\n",
    "x"
   ]
  },
  {
   "cell_type": "code",
   "execution_count": 32,
   "metadata": {},
   "outputs": [
    {
     "output_type": "execute_result",
     "data": {
      "text/plain": [
       "{'alpha': 30,\n",
       " 'bravo': 40,\n",
       " 'charlie': 50,\n",
       " 'echo': 70,\n",
       " 'foxtrot': 80,\n",
       " 'golf': 90}"
      ]
     },
     "metadata": {},
     "execution_count": 32
    }
   ],
   "source": [
    "del x['delta']\n",
    "x"
   ]
  },
  {
   "cell_type": "code",
   "execution_count": 33,
   "metadata": {},
   "outputs": [
    {
     "output_type": "execute_result",
     "data": {
      "text/plain": [
       "{'bravo': 40, 'charlie': 50, 'echo': 70, 'foxtrot': 80, 'golf': 90}"
      ]
     },
     "metadata": {},
     "execution_count": 33
    }
   ],
   "source": [
    "for key, value in x.items():        # 웬만하면 key, value를 건드리지않기\n",
    "    if value== 30:\n",
    "        break\n",
    "del x[key]\n",
    "x"
   ]
  },
  {
   "cell_type": "code",
   "execution_count": null,
   "metadata": {},
   "outputs": [],
   "source": []
  }
 ]
}