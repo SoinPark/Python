{
 "metadata": {
  "language_info": {
   "codemirror_mode": {
    "name": "ipython",
    "version": 3
   },
   "file_extension": ".py",
   "mimetype": "text/x-python",
   "name": "python",
   "nbconvert_exporter": "python",
   "pygments_lexer": "ipython3",
   "version": "3.8.5"
  },
  "orig_nbformat": 2,
  "kernelspec": {
   "name": "python385jvsc74a57bd08c1eae21719a0790335dcb83aad72b63b602cfe5cdb2bda0f60bc11d4f154e4b",
   "display_name": "Python 3.8.5 64-bit ('base': conda)"
  }
 },
 "nbformat": 4,
 "nbformat_minor": 2,
 "cells": [
  {
   "cell_type": "code",
   "execution_count": null,
   "metadata": {},
   "outputs": [],
   "source": [
    "* root directory 안에 file, directory가 올수있다.\n",
    "file : - text file(txt파일이나, 눈으로 볼수있는 파일)\n",
    "       - binary file(이미지파일같이 특정한 application로 봐야만하는 파일)\n",
    "file 엑세스 방법: read, write, append(엎어치기)\n",
    "권한(r, w, x(실행)): - owner \n",
    "                       group\n",
    "\n",
    "* 파일 과정\n",
    "- open (특정한 파일 불러오기)\n",
    "- read/write\n",
    "- close\n",
    "\n",
    "- with open         # with문을 벗어나는 순간에 자동으로 close\n",
    "- read/write\n",
    "\n",
    "* /파일명 , 절대루트로 사용하지 말아라. 루트로 시작하는 경로는 웬만하면 사용 X"
   ]
  },
  {
   "source": [
    "# 파일 다루기"
   ],
   "cell_type": "markdown",
   "metadata": {}
  },
  {
   "source": [
    "## - 텍스트 파일 읽기"
   ],
   "cell_type": "markdown",
   "metadata": {}
  },
  {
   "cell_type": "code",
   "execution_count": 1,
   "metadata": {},
   "outputs": [
    {
     "output_type": "stream",
     "name": "stdout",
     "text": [
      "I Have a Dream, a song to sing\nTo help me cope, with anything\nIf you see the wonder, of a fairy tale\nYou can take the future, even if you fail\n\n\nI believe in angels\nSomething good in everything I see\nI believe in angels\nWhen I know the time is right for me\nI'll cross the stream, I Have a Dream\n"
     ]
    }
   ],
   "source": [
    "f = open('dream.txt', 'r')      # r모드로 읽겠다\n",
    "contents = f.read()\n",
    "print(contents)\n",
    "f.close()"
   ]
  },
  {
   "cell_type": "code",
   "execution_count": 2,
   "metadata": {},
   "outputs": [
    {
     "output_type": "stream",
     "name": "stdout",
     "text": [
      "<class 'str'>\nI Have a Dream, a song to sing\nTo help me cope, with anything\nIf you see the wonder, of a fairy tale\nYou can take the future, even if you fail\n\n\nI believe in angels\nSomething good in everything I see\nI believe in angels\nWhen I know the time is right for me\nI'll cross the stream, I Have a Dream\n"
     ]
    }
   ],
   "source": [
    "# with문 사용하기\n",
    "with open('dream.txt', 'r') as my_file:         # my_file로 열것이다\n",
    "    contents = my_file.read()                   # 저장한 my_file에서 읽기\n",
    "    print(type(contents))           \n",
    "    print(contents)"
   ]
  },
  {
   "cell_type": "code",
   "execution_count": 3,
   "metadata": {},
   "outputs": [
    {
     "output_type": "stream",
     "name": "stdout",
     "text": [
      "<class 'list'>\n['I Have a Dream, a song to sing\\n', 'To help me cope, with anything\\n', 'If you see the wonder, of a fairy tale\\n', 'You can take the future, even if you fail\\n', '\\n', '\\n', 'I believe in angels\\n', 'Something good in everything I see\\n', 'I believe in angels\\n', 'When I know the time is right for me\\n', \"I'll cross the stream, I Have a Dream\"]\n"
     ]
    }
   ],
   "source": [
    "# 한 줄씩 읽어서 리스트로 반환 - readlines\n",
    "with open('dream.txt', 'r') as my_file:         \n",
    "    contents_list = my_file.readlines()                   \n",
    "    print(type(contents_list))           \n",
    "    print(contents_list)"
   ]
  },
  {
   "cell_type": "code",
   "execution_count": 4,
   "metadata": {},
   "outputs": [
    {
     "output_type": "execute_result",
     "data": {
      "text/plain": [
       "'I Have a Dream, a song to sing\\n'"
      ]
     },
     "metadata": {},
     "execution_count": 4
    }
   ],
   "source": [
    "contents_list[0]"
   ]
  },
  {
   "cell_type": "code",
   "execution_count": 12,
   "metadata": {},
   "outputs": [
    {
     "output_type": "stream",
     "name": "stdout",
     "text": [
      "I Have a Dream, a song to sing\nTo help me cope, with anything\nIf you see the wonder, of a fairy tale\nYou can take the future, even if you fail\n\n\nI believe in angels\nSomething good in everything I see\nI believe in angels\nWhen I know the time is right for me\nI'll cross the stream, I Have a Dream\n"
     ]
    }
   ],
   "source": [
    "# 한 줄 단위로 읽기 - readline\n",
    "with open('dream.txt', 'r') as my_file:\n",
    "    while True:\n",
    "        line = my_file.readline()   # 한 줄 단위\n",
    "        if not line:        # 마지막을 따지는 조건(라인이 아니라면 멈추겠다)\n",
    "            break\n",
    "        print(line.replace('\\n', ''))   # 줄바꿈('\\n')을 ''로 바꿔서 간격 줄임"
   ]
  },
  {
   "cell_type": "code",
   "execution_count": 13,
   "metadata": {},
   "outputs": [
    {
     "output_type": "stream",
     "name": "stdout",
     "text": [
      "1 === I Have a Dream, a song to sing\n2 === To help me cope, with anything\n3 === If you see the wonder, of a fairy tale\n4 === You can take the future, even if you fail\n5 === \n6 === \n7 === I believe in angels\n8 === Something good in everything I see\n9 === I believe in angels\n10 === When I know the time is right for me\n11 === I'll cross the stream, I Have a Dream\n"
     ]
    }
   ],
   "source": [
    "with open('dream.txt', 'r') as my_file:\n",
    "    number = 1\n",
    "    while True:\n",
    "        line = my_file.readline()\n",
    "        if not line:       \n",
    "            break\n",
    "        print(number, '===', line.replace('\\n', ''))\n",
    "        number += 1  "
   ]
  },
  {
   "source": [
    "- 파일 쓰기"
   ],
   "cell_type": "markdown",
   "metadata": {}
  },
  {
   "cell_type": "code",
   "execution_count": 14,
   "metadata": {},
   "outputs": [],
   "source": [
    "with open('new_file.txt', 'w') as f:\n",
    "    f.write('A quick brown fox jumps over the lazy dog.')"
   ]
  },
  {
   "cell_type": "code",
   "execution_count": 21,
   "metadata": {},
   "outputs": [],
   "source": [
    "# write mode에서는 파일을 over write한다. \n",
    "with open('new_file.txt', 'w', encoding = 'utf8') as f:     # 위 자료에 엎어치기 됨 = 내용바뀜\n",
    "    f.write('새로운 글을 씁니다.')"
   ]
  },
  {
   "cell_type": "code",
   "execution_count": 22,
   "metadata": {},
   "outputs": [],
   "source": [
    "with open('new_file.txt', 'a', encoding = 'utf8') as f:     # (a) 글이 한번 더 추가됨\n",
    "    f.write('새로운 글을 씁니다.')"
   ]
  },
  {
   "cell_type": "code",
   "execution_count": 23,
   "metadata": {},
   "outputs": [],
   "source": [
    "with open('new_file.txt', 'a', encoding = 'utf8') as f:     \n",
    "    f.write('A quick brown fox jumps over the lazy dog.\\n')\n",
    "    f.write('새로운 글을 씁니다.\\n')"
   ]
  },
  {
   "source": [
    "- 디렉토리 만들기"
   ],
   "cell_type": "markdown",
   "metadata": {}
  },
  {
   "cell_type": "code",
   "execution_count": 24,
   "metadata": {},
   "outputs": [],
   "source": [
    "import os\n",
    "os.mkdir('subdir')      # 왼쪽 목록에 subdir 디렉토리 생김"
   ]
  },
  {
   "cell_type": "code",
   "execution_count": 25,
   "metadata": {},
   "outputs": [
    {
     "output_type": "error",
     "ename": "FileExistsError",
     "evalue": "[WinError 183] 파일이 이미 있으므로 만들 수 없습니다: 'subdir'",
     "traceback": [
      "\u001b[1;31m---------------------------------------------------------------------------\u001b[0m",
      "\u001b[1;31mFileExistsError\u001b[0m                           Traceback (most recent call last)",
      "\u001b[1;32m<ipython-input-25-2c69015a6ede>\u001b[0m in \u001b[0;36m<module>\u001b[1;34m\u001b[0m\n\u001b[1;32m----> 1\u001b[1;33m \u001b[0mos\u001b[0m\u001b[1;33m.\u001b[0m\u001b[0mmkdir\u001b[0m\u001b[1;33m(\u001b[0m\u001b[1;34m'subdir'\u001b[0m\u001b[1;33m)\u001b[0m\u001b[1;33m\u001b[0m\u001b[1;33m\u001b[0m\u001b[0m\n\u001b[0m",
      "\u001b[1;31mFileExistsError\u001b[0m: [WinError 183] 파일이 이미 있으므로 만들 수 없습니다: 'subdir'"
     ]
    }
   ],
   "source": [
    "os.mkdir('subdir')      # 있는데 또 깔면 에러발생"
   ]
  },
  {
   "cell_type": "code",
   "execution_count": 29,
   "metadata": {},
   "outputs": [
    {
     "output_type": "execute_result",
     "data": {
      "text/plain": [
       "True"
      ]
     },
     "metadata": {},
     "execution_count": 29
    }
   ],
   "source": [
    "os.path.exists('subdir')        # 이 디렉토리가 있는지 확인"
   ]
  },
  {
   "cell_type": "code",
   "execution_count": null,
   "metadata": {},
   "outputs": [],
   "source": [
    "if not os.path.exists('subdir'):        # subdir이 있는지 if not으로 확인 후 없음 만들어라\n",
    "    os.mkdir('subdir')"
   ]
  },
  {
   "cell_type": "code",
   "execution_count": 33,
   "metadata": {},
   "outputs": [],
   "source": [
    "# dream.txt 에서 홀수 줄만 뽑아서 subdir디렉토리에 dreams_odd.txt로 저장해라\n",
    "with open('dream.txt', 'r') as rf:\n",
    "    lines = rf.readlines()          # rf : read file\n",
    "\n",
    "if not os.path.exists('subdir'):       # 파일의 유무 확인을 위해 사용 필요\n",
    "    os.mkdir('subdir')\n",
    "\n",
    "with open('subdir/dream_odd.txt', 'w') as wf:       # wf: write file\n",
    "    for index, line in enumerate(lines):         # 라인만 가지고 오는게 아니라 1,3 째줄의 인덱스를 가져와야함 / enumerate()사용\n",
    "        if index % 2 == 0:\n",
    "            wf.write(line)"
   ]
  },
  {
   "source": [
    "- binary data - pickle 모듈 활용\n",
    "- 텍스트 이외의 자료형을 파일로 저장하기 위해 pickle 모듈 사용"
   ],
   "cell_type": "markdown",
   "metadata": {}
  },
  {
   "cell_type": "code",
   "execution_count": 32,
   "metadata": {},
   "outputs": [],
   "source": [
    "test_list =[1, True, 3.14, 'String']        # binary data"
   ]
  },
  {
   "cell_type": "code",
   "execution_count": 34,
   "metadata": {},
   "outputs": [],
   "source": [
    "import pickle \n",
    "\n",
    "with open('list.pickle', 'wb') as bf:   # bf: binary file\n",
    "    pickle.dump(test_list, bf)      #list.pickle 이라는 파일 생성 - binary라 읽을수없다고 뜸"
   ]
  },
  {
   "cell_type": "code",
   "execution_count": 35,
   "metadata": {},
   "outputs": [
    {
     "output_type": "execute_result",
     "data": {
      "text/plain": [
       "[1, True, 3.14, 'String']"
      ]
     },
     "metadata": {},
     "execution_count": 35
    }
   ],
   "source": [
    "with open('list.pickle', 'rb') as bf: \n",
    "    x = pickle.load(bf)         # 리스트로 저장해서 리스트로 뺴내온다... dump 하고 load\n",
    "x"
   ]
  }
 ]
}