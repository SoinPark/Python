{
 "metadata": {
  "language_info": {
   "codemirror_mode": {
    "name": "ipython",
    "version": 3
   },
   "file_extension": ".py",
   "mimetype": "text/x-python",
   "name": "python",
   "nbconvert_exporter": "python",
   "pygments_lexer": "ipython3",
   "version": "3.8.5"
  },
  "orig_nbformat": 2,
  "kernelspec": {
   "name": "python385jvsc74a57bd08c1eae21719a0790335dcb83aad72b63b602cfe5cdb2bda0f60bc11d4f154e4b",
   "display_name": "Python 3.8.5 64-bit ('base': conda)"
  }
 },
 "nbformat": 4,
 "nbformat_minor": 2,
 "cells": [
  {
   "source": [
    "## Unit 23.7 심사문제: 지뢰찾기\n",
    "\n",
    "- 표준 입력으로 2차원 리스트의 가로(col)와 세로(row)가 입력되고 그 다음 줄부터 리스트의 요소로 들어갈 문자가 입력됩니다. 이때 2차원 리스트 안에서 *는 지뢰이고 .은 지뢰가 아닙니다. 지뢰가 아닌 요소에는 인접한 지뢰의 개수를 출력하는 프로그램을 만드세요(input에서 안내 문자열은 출력하지 않아야 합니다).\n",
    "\n",
    "여러 줄을 입력 받으려면 다음과 같이 for 반복문에서 input을 호출한 뒤 append로 각 줄을 추가하면 됩니다(list 안에 문자열을 넣으면 문자열이 문자 리스트로 변환됩니다).\n",
    "\n",
    "- [[0 if random.random() < 0.7 else 1 for _ range(4)] for _ in range(4)] "
   ],
   "cell_type": "markdown",
   "metadata": {}
  },
  {
   "cell_type": "code",
   "execution_count": 54,
   "metadata": {},
   "outputs": [
    {
     "output_type": "execute_result",
     "data": {
      "text/plain": [
       "[[1, 1, 0, 0], [0, 0, 1, 0], [0, 0, 1, 0], [0, 1, 0, 0]]"
      ]
     },
     "metadata": {},
     "execution_count": 54
    }
   ],
   "source": [
    "import random\n",
    "random.seed(0)              # random.seed를 사용하여 고정\n",
    "wlfhl = [[0 if random.random() < 0.7 else 1 for _ in range(4)] for _ in range(4)]\n",
    "wlfhl"
   ]
  },
  {
   "source": [
    "- 패딩 만들기(padding)"
   ],
   "cell_type": "markdown",
   "metadata": {}
  },
  {
   "cell_type": "code",
   "execution_count": 55,
   "metadata": {},
   "outputs": [
    {
     "output_type": "execute_result",
     "data": {
      "text/plain": [
       "[[1, 1, 0, 0], [0, 0, 1, 0], [0, 0, 1, 0], [0, 1, 0, 0]]"
      ]
     },
     "metadata": {},
     "execution_count": 55
    }
   ],
   "source": [
    "wlfhl_p = wlfhl         # 패딩으로 만들 새로운 변수 생성하기\n",
    "wlfhl_p"
   ]
  },
  {
   "cell_type": "code",
   "execution_count": 56,
   "metadata": {},
   "outputs": [
    {
     "output_type": "stream",
     "name": "stdout",
     "text": [
      "[[0, 1, 1, 0, 0, 0], [0, 0, 0, 1, 0, 0], [0, 0, 0, 1, 0, 0], [0, 0, 1, 0, 0, 0]]\n"
     ]
    }
   ],
   "source": [
    "for i in range(4):\n",
    "    wlfhl_p[i].append(0)            # 리스트 맨끝에 0추가\n",
    "    wlfhl_p[i].insert(0,0)          # 리스트 맨앞에 0추가 / insert는 위치를 지정해줘야함 = insert(위치, 값)\n",
    "print(wlfhl_p)"
   ]
  },
  {
   "cell_type": "code",
   "execution_count": 57,
   "metadata": {},
   "outputs": [
    {
     "output_type": "stream",
     "name": "stdout",
     "text": [
      "[[0, 0, 0, 0, 0, 0], [0, 1, 1, 0, 0, 0], [0, 0, 0, 1, 0, 0], [0, 0, 0, 1, 0, 0], [0, 0, 1, 0, 0, 0], [0, 0, 0, 0, 0, 0]]\n"
     ]
    }
   ],
   "source": [
    "wlfhl_p.insert(0, [0 for i in range(len(wlfhl_p[0]))])  # 패딩 첫줄에 0 생성\r\n",
    "wlfhl_p.append([0 for i in range(len(wlfhl_p[0]))])     # 패딩 마지막줄에 0 생성 / 0을 wlfhl_p[0]길이만큼 하나씩 추가한다\r\n",
    "print(wlfhl_p)"
   ]
  },
  {
   "cell_type": "code",
   "execution_count": null,
   "metadata": {},
   "outputs": [],
   "source": [
    "# r.extend(row)  # 리스트에 요소를 추가하고 싶을때는 extend를 사용\n",
    "# for elenment in row:          위와같은 방법\n",
    "#   r.append(elenment)\n",
    "\n",
    "\n",
    "# i,k  패딩안에 1번째랑 마지막까지"
   ]
  },
  {
   "cell_type": "code",
   "execution_count": null,
   "metadata": {},
   "outputs": [],
   "source": [
    "def m2f(m):\n",
    "    "
   ]
  }
 ]
}