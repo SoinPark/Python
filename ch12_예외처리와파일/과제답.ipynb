{
 "metadata": {
  "language_info": {
   "codemirror_mode": {
    "name": "ipython",
    "version": 3
   },
   "file_extension": ".py",
   "mimetype": "text/x-python",
   "name": "python",
   "nbconvert_exporter": "python",
   "pygments_lexer": "ipython3",
   "version": "3.8.5"
  },
  "orig_nbformat": 2,
  "kernelspec": {
   "name": "python385jvsc74a57bd08c1eae21719a0790335dcb83aad72b63b602cfe5cdb2bda0f60bc11d4f154e4b",
   "display_name": "Python 3.8.5 64-bit ('base': conda)"
  }
 },
 "nbformat": 4,
 "nbformat_minor": 2,
 "cells": [
  {
   "source": [
    "## 지뢰찾기"
   ],
   "cell_type": "markdown",
   "metadata": {}
  },
  {
   "cell_type": "code",
   "execution_count": 6,
   "metadata": {},
   "outputs": [],
   "source": [
    "def print_matrix(m):\n",
    "    for i in range(len(m)):\n",
    "        for k in range(len(m)):\n",
    "            print(m[i][k], end = ' ')\n",
    "        print()"
   ]
  },
  {
   "cell_type": "code",
   "execution_count": 7,
   "metadata": {},
   "outputs": [],
   "source": [
    "def m2p(m):             # 매트릭스를 패딩으로 바꾸는 함수 생성\n",
    "    p = []\n",
    "    p.append([0]*(len(m) + 2))      # 패딩 첫째줄에 m길이의 2더한 0의 개수 생성\n",
    "    for row in m:\n",
    "        r = [0]\n",
    "        # for element in row:\n",
    "        #     r.append(element)       # 아래 extend대신 사용하는 방법\n",
    "        r.extend(row)\n",
    "        r.append(0)\n",
    "        p.append(r)\n",
    "    p.append([0]*(len(m) + 2))      # 패딩 마지막줄에 m에 2더한 0의 개수 생성\n",
    "    return p"
   ]
  },
  {
   "cell_type": "code",
   "execution_count": 8,
   "metadata": {},
   "outputs": [],
   "source": [
    "def count_mine(p, i, k):\n",
    "    if p[i][k] == 1:\n",
    "        return '*'\n",
    "    count = p[i-1][k-1] + p[i-1][k] + p[i-1][k+1] + \\\n",
    "            p[i][k-1] +               p[i][k+1] + \\\n",
    "            p[i+1][k-1] + p[i+1][k] + p[i+1][k+1]\n",
    "    return count"
   ]
  },
  {
   "cell_type": "code",
   "execution_count": 9,
   "metadata": {},
   "outputs": [
    {
     "output_type": "stream",
     "name": "stdout",
     "text": [
      "0 0 0 0 0 0 \n0 0 0 0 1 0 \n0 0 1 0 0 0 \n0 0 1 0 0 1 \n0 1 1 0 1 1 \n0 0 0 0 0 1 \n"
     ]
    }
   ],
   "source": [
    "import random\n",
    "mine_len = 6\n",
    "mine = [[0 if random.random() < 0.7 else 1 for _ in range(mine_len)]\n",
    "                                        for _ in range(mine_len)]\n",
    "print_matrix(mine)"
   ]
  },
  {
   "cell_type": "code",
   "execution_count": 10,
   "metadata": {},
   "outputs": [
    {
     "output_type": "stream",
     "name": "stdout",
     "text": [
      "0 0 0 0 0 0 0 0 \n0 0 0 0 0 0 0 0 \n0 0 0 0 0 1 0 0 \n0 0 0 1 0 0 0 0 \n0 0 0 1 0 0 1 0 \n0 0 1 1 0 1 1 0 \n0 0 0 0 0 0 1 0 \n0 0 0 0 0 0 0 0 \n"
     ]
    }
   ],
   "source": [
    "padding = m2p(mine)\n",
    "print_matrix(padding)"
   ]
  },
  {
   "cell_type": "code",
   "execution_count": 11,
   "metadata": {},
   "outputs": [],
   "source": [
    "answer = []\n",
    "for row in range(1, mine_len +1):\n",
    "    line = []\n",
    "    for col in range(1, mine_len+1):\n",
    "        line.append(count_mine(padding, row, col))\n",
    "    answer.append(line)"
   ]
  },
  {
   "cell_type": "code",
   "execution_count": 12,
   "metadata": {},
   "outputs": [
    {
     "output_type": "stream",
     "name": "stdout",
     "text": [
      "0 0 0 1 1 1 \n0 1 1 2 * 1 \n0 2 * 3 2 2 \n1 4 * 4 3 * \n1 * * 3 * * \n1 2 2 2 3 * \n"
     ]
    }
   ],
   "source": [
    "print_matrix(answer)"
   ]
  },
  {
   "cell_type": "code",
   "execution_count": null,
   "metadata": {},
   "outputs": [],
   "source": []
  }
 ]
}